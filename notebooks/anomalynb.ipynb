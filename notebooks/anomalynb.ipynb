{
 "cells": [
  {
   "cell_type": "markdown",
   "id": "e02e71ee",
   "metadata": {},
   "source": [
    "`Anomaly detection project`\n",
    "\n"
   ]
  },
  {
   "cell_type": "markdown",
   "id": "db025441",
   "metadata": {},
   "source": [
    "----"
   ]
  },
  {
   "cell_type": "code",
   "execution_count": null,
   "id": "32c7070f",
   "metadata": {
    "vscode": {
     "languageId": "plaintext"
    }
   },
   "outputs": [],
   "source": [
    "test"
   ]
  },
  {
   "cell_type": "code",
   "execution_count": null,
   "id": "ca324f56",
   "metadata": {
    "vscode": {
     "languageId": "plaintext"
    }
   },
   "outputs": [],
   "source": []
  }
 ],
 "metadata": {
  "language_info": {
   "name": "python"
  }
 },
 "nbformat": 4,
 "nbformat_minor": 5
}
